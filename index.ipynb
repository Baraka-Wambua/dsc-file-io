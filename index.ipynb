{
 "cells": [
  {
   "cell_type": "markdown",
   "metadata": {},
   "source": [
    "# File Input and Output in Python\n",
    "\n",
    "## Introduction\n",
    "\n",
    "In this lesson, you'll learn about interacting with files in Python. First you'll start by reviewing the core concepts of opening, closing, reading, and writing files, and how this process is similar and different between the familiar GUI software and using Python code. Then you'll walk through some specific examples of reading and writing files with Python, ending with a series of examples using different libraries to open different types of files.\n",
    "\n",
    "## Objectives\n",
    "\n",
    "You will be able to:\n",
    "\n",
    "* Understand the core concepts of file I/O\n",
    "* Read data from files into Python\n",
    "* Write data from Python into files\n",
    "* Describe key file types and how to interact with them in Python"
   ]
  },
  {
   "cell_type": "markdown",
   "metadata": {},
   "source": [
    "## \"In Memory\" vs. \"On Disk\"\n",
    "\n",
    "You're probably already quite familiar with the general idea of interacting with a computer file system, but let's take a step back and go over some fundamentals.\n",
    "\n",
    "### Data in Memory\n",
    "\n",
    "We have mainly emphasized working with Python variables *in memory*. When something is in memory, that means that it can be easily modified and that it no longer exists once the software using it (in this case, a Python kernel) stops running.\n",
    "\n",
    "For example, take this code snippet:"
   ]
  },
  {
   "cell_type": "code",
   "execution_count": 1,
   "metadata": {},
   "outputs": [],
   "source": [
    "x = [5, 6, 7]"
   ]
  },
  {
   "cell_type": "markdown",
   "metadata": {},
   "source": [
    "The value of `x` currently exists in memory.\n",
    "\n",
    "The full computer architecture details are more complex, but you can think of this information as being stored using **RAM** (either on your local computer, or in a cloud environment).\n",
    "\n",
    "We can actually look at the address where it was stored:"
   ]
  },
  {
   "cell_type": "code",
   "execution_count": 2,
   "metadata": {},
   "outputs": [
    {
     "data": {
      "text/plain": [
       "'0x1ac84810880'"
      ]
     },
     "execution_count": 2,
     "metadata": {},
     "output_type": "execute_result"
    }
   ],
   "source": [
    "hex(id(x))"
   ]
  },
  {
   "cell_type": "markdown",
   "metadata": {},
   "source": [
    "Then let's say we modify the value of this variable:"
   ]
  },
  {
   "cell_type": "code",
   "execution_count": 3,
   "metadata": {},
   "outputs": [
    {
     "data": {
      "text/plain": [
       "[10, 6, 7]"
      ]
     },
     "execution_count": 3,
     "metadata": {},
     "output_type": "execute_result"
    }
   ],
   "source": [
    "x[0] = 10\n",
    "x"
   ]
  },
  {
   "cell_type": "markdown",
   "metadata": {},
   "source": [
    "If we check the address, it hasn't changed:"
   ]
  },
  {
   "cell_type": "code",
   "execution_count": 4,
   "metadata": {},
   "outputs": [
    {
     "data": {
      "text/plain": [
       "'0x1ac84810880'"
      ]
     },
     "execution_count": 4,
     "metadata": {},
     "output_type": "execute_result"
    }
   ],
   "source": [
    "hex(id(x))"
   ]
  },
  {
   "cell_type": "markdown",
   "metadata": {},
   "source": [
    "But that 5 has been completely replaced in memory with a 10. This demonstrates how easy it is to modify something in memory — you don't need to \"write\" or \"save\" explicitly, you can just change the value of the variable.\n",
    "\n",
    "Now, restart the kernel:\n",
    "\n",
    "![kernel menu](kernel_menu.png)\n",
    "\n",
    "Now, if we try to access `x` again, we get an error message:"
   ]
  },
  {
   "cell_type": "code",
   "execution_count": 5,
   "metadata": {},
   "outputs": [
    {
     "data": {
      "text/plain": [
       "[10, 6, 7]"
      ]
     },
     "execution_count": 5,
     "metadata": {},
     "output_type": "execute_result"
    }
   ],
   "source": [
    "x"
   ]
  },
  {
   "cell_type": "markdown",
   "metadata": {},
   "source": [
    "This demonstrates how data in memory stops being stored by the computer when the software using it stops.\n",
    "\n",
    "As you can see, variables in memory are flexible and convenient, but they are inherently temporary and short-term. If we restart the kernel or restart the computer, we lose access to that data, which is not a good solution for retaining anything important. If we want something to be stored regardless of whether our kernel is still running, we want to use a file on disk."
   ]
  },
  {
   "cell_type": "markdown",
   "metadata": {},
   "source": [
    "### Files on Disk\n",
    "\n",
    "In contrast to data in memory, files *on disk* are stored more permanently.\n",
    "\n",
    "We can view a list of files in the current directory using the bash command `ls`:"
   ]
  },
  {
   "cell_type": "code",
   "execution_count": 6,
   "metadata": {},
   "outputs": [
    {
     "name": "stdout",
     "output_type": "stream",
     "text": [
      "README.md\n",
      "cities.xls\n",
      "colors_and_numbers.parquet\n",
      "dog.jpg\n",
      "dsc-github-actions-files\n",
      "food_prices.csv\n",
      "index.ipynb\n",
      "index_files\n",
      "kernel_menu.png\n",
      "leia.json\n",
      "leia.xml\n",
      "plot.pkl\n",
      "splitter.py\n",
      "zen_of_python.txt\n",
      "zen_of_python_cleaned.txt\n"
     ]
    }
   ],
   "source": [
    "! ls"
   ]
  },
  {
   "cell_type": "markdown",
   "metadata": {},
   "source": [
    "Again this is a bit of a simplification, but you can think of this information as being stored on the **hard drive** of the computer (local or cloud), whereas objects in memory are stored in RAM.\n",
    "\n",
    "If we restart the kernel or restart the entire computer, those files will still be there, unchanged.\n",
    "\n",
    "Therefore we can use files on disk, as opposed to objects in memory, to store anything that needs to persist long-term."
   ]
  },
  {
   "cell_type": "markdown",
   "metadata": {},
   "source": [
    "## File I/O\n",
    "\n",
    "Interacting with files on disk with Python is somewhat more complex than interacting with Python variables in memory. It is a form of [I/O](https://en.wikipedia.org/wiki/Input/output) — meaning \"input/output\" — which means that we need to incorporate the ideas of:\n",
    "\n",
    "1. **Opening** and **closing** files\n",
    "2. **Reading from** and **writing to** files\n",
    "\n",
    "### Opening and Closing Files\n",
    "\n",
    "You are already familiar with the general idea of opening files using software, either through a GUI or the command line. For example, in order to open a Microsoft Word document, you would probably navigate through the file system GUI and double-click on a file with a `.docx` extension. Or in order to launch a Jupyter notebook, you would navigate through the file system via the command line and then execute `jupyter notebook` in order to open a file with a `.ipynb` extension.\n",
    "\n",
    "The generalized steps you are taking are:\n",
    "\n",
    "1. Locating the file\n",
    "2. Opening the file using appropriate software\n",
    "3. Reading and/or editing contents of the file\n",
    "4. Closing the file\n",
    "\n",
    "Those same steps apply when using Python to interact with files.\n",
    "\n",
    "#### 1. Locating the File\n",
    "\n",
    "In order to open a file with Python, you need to know the *path* to the file. By default this path is relative to the path you are running the Python code from.\n",
    "\n",
    "Let's look at the files in the current directory again:"
   ]
  },
  {
   "cell_type": "code",
   "execution_count": 7,
   "metadata": {},
   "outputs": [
    {
     "name": "stdout",
     "output_type": "stream",
     "text": [
      "README.md\n",
      "cities.xls\n",
      "colors_and_numbers.parquet\n",
      "dog.jpg\n",
      "dsc-github-actions-files\n",
      "food_prices.csv\n",
      "index.ipynb\n",
      "index_files\n",
      "kernel_menu.png\n",
      "leia.json\n",
      "leia.xml\n",
      "plot.pkl\n",
      "splitter.py\n",
      "zen_of_python.txt\n",
      "zen_of_python_cleaned.txt\n"
     ]
    }
   ],
   "source": [
    "! ls"
   ]
  },
  {
   "cell_type": "markdown",
   "metadata": {},
   "source": [
    "Say we want to open `zen_of_python.txt`. It is located in the same directory that this Python code is running from, so the relative file path is simply `zen_of_python.txt`."
   ]
  },
  {
   "cell_type": "code",
   "execution_count": 8,
   "metadata": {},
   "outputs": [],
   "source": [
    "file_path = \"zen_of_python.txt\""
   ]
  },
  {
   "cell_type": "markdown",
   "metadata": {},
   "source": [
    "The paths work the same as paths on your computer's operating system. So, for example, if you were running this on a Mac computer and the file was located in a subdirectory called `files`, then the path would be `files/zen_of_python.txt`. Or if the file was located in the directory above the current one, then the path would be `../zen_of_python.txt`. While we won't get into the details here, the Python `os` module ([documentation here](https://docs.python.org/3/library/os.html)) is helpful if you need to write code that will be compatible with multiple different operating systems or if you need the absolute path to a file rather than the relative path."
   ]
  },
  {
   "cell_type": "markdown",
   "metadata": {},
   "source": [
    "#### 2. Opening the File Using Appropriate Software\n",
    "\n",
    "Just like a `.docx` file needs to be opened with software like Microsoft Word, and a `.ipynb` file needs to be opened with software like Jupyter Notebook, you need to make sure you are opening and reading files with Python using the appropriate configuration.\n",
    "\n",
    "Fortunately a plain text file is quite simple, and does not require any additional libraries or parameters to open it. (We will get into some examples of how to open more-complex files later.) All we need to do is use the `open` built-in function:"
   ]
  },
  {
   "cell_type": "code",
   "execution_count": 9,
   "metadata": {},
   "outputs": [],
   "source": [
    "file_obj = open(file_path)"
   ]
  },
  {
   "cell_type": "markdown",
   "metadata": {},
   "source": [
    "Ok, we opened the file! What do we have now?"
   ]
  },
  {
   "cell_type": "code",
   "execution_count": 10,
   "metadata": {},
   "outputs": [
    {
     "data": {
      "text/plain": [
       "_io.TextIOWrapper"
      ]
     },
     "execution_count": 10,
     "metadata": {},
     "output_type": "execute_result"
    }
   ],
   "source": [
    "type(file_obj)"
   ]
  },
  {
   "cell_type": "markdown",
   "metadata": {},
   "source": [
    "As you can see, we have an object with \"IO\" in the name, and it is treating the opened file as containing \"text\" because we didn't specify any additional parameters. Note that this is **not** because of the file extension (`.txt`) — Python does not automatically do anything with the file based on the file extension, and the behavior so far would be the same if we had specified a path ending with `.png` instead.\n",
    "\n",
    "Can we just print the contents of the file now?"
   ]
  },
  {
   "cell_type": "code",
   "execution_count": 11,
   "metadata": {},
   "outputs": [
    {
     "name": "stdout",
     "output_type": "stream",
     "text": [
      "<_io.TextIOWrapper name='zen_of_python.txt' mode='r' encoding='cp1252'>\n"
     ]
    }
   ],
   "source": [
    "print(file_obj)"
   ]
  },
  {
   "cell_type": "markdown",
   "metadata": {},
   "source": [
    "Not exactly. We have *opened* the file, but if we want to get its contents, that is a separate step of *reading* from the file."
   ]
  },
  {
   "cell_type": "markdown",
   "metadata": {},
   "source": [
    "#### 3. Reading and/or Editing Contents of the File\n",
    "\n",
    "This is possibly the most confusing part of working with files in Python compared to the software we are used to using. With Microsoft Word, for example, opening a file and reading the contents of a file are all part of the same step. However in Python, opening and reading are separate.\n",
    "\n",
    "One reason for this is that computers typically have significantly more space in the hard drive than the RAM. Even without getting into true \"big data\" that requires special tooling, we might have a file stored on the hard drive that contains multiple gigabytes of data, but only 1 gigabyte of available RAM space. With Python file I/O, you could separate the processing of that file into chunks — only reading in, say, 100 lines at a time — so that you never exceed the available RAM.\n",
    "\n",
    "Since this file is fairly small, we will go ahead and read all of the contents at once into memory, using the `readlines()` method."
   ]
  },
  {
   "cell_type": "code",
   "execution_count": 12,
   "metadata": {},
   "outputs": [],
   "source": [
    "file_contents = file_obj.readlines()"
   ]
  },
  {
   "cell_type": "markdown",
   "metadata": {},
   "source": [
    "Now what do we have?"
   ]
  },
  {
   "cell_type": "code",
   "execution_count": 13,
   "metadata": {},
   "outputs": [
    {
     "data": {
      "text/plain": [
       "list"
      ]
     },
     "execution_count": 13,
     "metadata": {},
     "output_type": "execute_result"
    }
   ],
   "source": [
    "type(file_contents)"
   ]
  },
  {
   "cell_type": "markdown",
   "metadata": {},
   "source": [
    "And what is in that list?"
   ]
  },
  {
   "cell_type": "code",
   "execution_count": 14,
   "metadata": {},
   "outputs": [
    {
     "data": {
      "text/plain": [
       "'The Zen of Python, by Tim Peters\\n'"
      ]
     },
     "execution_count": 14,
     "metadata": {},
     "output_type": "execute_result"
    }
   ],
   "source": [
    "file_contents[0]"
   ]
  },
  {
   "cell_type": "markdown",
   "metadata": {},
   "source": [
    "We can treat this like any other list of strings."
   ]
  },
  {
   "cell_type": "code",
   "execution_count": 15,
   "metadata": {},
   "outputs": [
    {
     "name": "stdout",
     "output_type": "stream",
     "text": [
      "The Zen of Python, by Tim Peters\n",
      "\n",
      "Beautiful is better than ugly.\n",
      "Explicit is better than implicit.\n",
      "Simple is better than complex.\n",
      "Complex is better than complicated.\n",
      "Flat is better than nested.\n",
      "Sparse is better than dense.\n",
      "Readability counts.\n",
      "Special cases aren't special enough to break the rules.\n",
      "Although practicality beats purity.\n",
      "Errors should never pass silently.\n",
      "Unless explicitly silenced.\n",
      "In the face of ambiguity, refuse the temptation to guess.\n",
      "There should be one-- and preferably only one --obvious way to do it.\n",
      "Although that way may not be obvious at first unless you're Dutch.\n",
      "Now is better than never.\n",
      "Although never is often better than *right* now.\n",
      "If the implementation is hard to explain, it's a bad idea.\n",
      "If the implementation is easy to explain, it may be a good idea.\n",
      "Namespaces are one honking great idea -- let's do more of those!\n",
      "\n"
     ]
    }
   ],
   "source": [
    "for line in file_contents:\n",
    "    print(\n",
    "        line, end=\"\"\n",
    "    )  # end=\"\" to avoid double-spacing since strings already end with \\n"
   ]
  },
  {
   "cell_type": "markdown",
   "metadata": {},
   "source": [
    "Great! Now we have taken data stored in a file on disk and loaded it into a Python object in memory!\n",
    "\n",
    "Note that if we try to read from the same file again, we will not get any content:"
   ]
  },
  {
   "cell_type": "code",
   "execution_count": 16,
   "metadata": {},
   "outputs": [
    {
     "data": {
      "text/plain": [
       "[]"
      ]
     },
     "execution_count": 16,
     "metadata": {},
     "output_type": "execute_result"
    }
   ],
   "source": [
    "file_obj.readlines()"
   ]
  },
  {
   "cell_type": "markdown",
   "metadata": {},
   "source": [
    "This is because the Python file interface is kind of like a physical piece of media (e.g. a music CD) — it reads once from the beginning to the end, and then the content is over. If, for some reason, you need to read from the same file again, you can use the `.seek` method ([documentation here](https://docs.python.org/3/library/io.html#io.IOBase.seek)) to go back to the beginning, but in general your code will be faster and more efficient if you structure the logic so that you only read through the file once."
   ]
  },
  {
   "cell_type": "markdown",
   "metadata": {},
   "source": [
    "#### 4. Closing the File\n",
    "\n",
    "Once you are finished reading from the file, close it using the `.close` method:"
   ]
  },
  {
   "cell_type": "code",
   "execution_count": 17,
   "metadata": {},
   "outputs": [],
   "source": [
    "file_obj.close()"
   ]
  },
  {
   "cell_type": "markdown",
   "metadata": {},
   "source": [
    "This means that your Python code is fully disconnected from the file. If you try to read from the file object again, you will get an error message:"
   ]
  },
  {
   "cell_type": "code",
   "execution_count": 18,
   "metadata": {},
   "outputs": [
    {
     "ename": "ValueError",
     "evalue": "I/O operation on closed file.",
     "output_type": "error",
     "traceback": [
      "\u001b[1;31m---------------------------------------------------------------------------\u001b[0m",
      "\u001b[1;31mValueError\u001b[0m                                Traceback (most recent call last)",
      "Cell \u001b[1;32mIn[18], line 1\u001b[0m\n\u001b[1;32m----> 1\u001b[0m \u001b[43mfile_obj\u001b[49m\u001b[38;5;241;43m.\u001b[39;49m\u001b[43mreadlines\u001b[49m\u001b[43m(\u001b[49m\u001b[43m)\u001b[49m\n",
      "\u001b[1;31mValueError\u001b[0m: I/O operation on closed file."
     ]
    }
   ],
   "source": [
    "file_obj.readlines()"
   ]
  },
  {
   "cell_type": "markdown",
   "metadata": {},
   "source": [
    "Once the file is closed, you can go on to analyze the data using Python. For example, if we wanted to count how many lines of that document contain the phrase \"is better than\", we might do something like this:"
   ]
  },
  {
   "cell_type": "code",
   "execution_count": 19,
   "metadata": {},
   "outputs": [
    {
     "name": "stdout",
     "output_type": "stream",
     "text": [
      "The phrase 'is better than' appears 7 times\n"
     ]
    }
   ],
   "source": [
    "is_better_than_count = 0\n",
    "for line in file_contents:\n",
    "    if \"is better than\" in line:\n",
    "        is_better_than_count += 1\n",
    "\n",
    "print(\"The phrase 'is better than' appears\", is_better_than_count, \"times\")"
   ]
  },
  {
   "cell_type": "markdown",
   "metadata": {},
   "source": [
    "#### Shortened Syntax Using `with`\n",
    "\n",
    "The file objects created by the `open` function are \"context managers\" meaning they support a compound statement called `with` ([documentation here](https://docs.python.org/3/reference/compound_stmts.html#with)).\n",
    "\n",
    "When you use `with open` to start a block, the file object will automatically close at the end of that block. So we could re-write the previous steps.\n",
    "\n",
    "From this:"
   ]
  },
  {
   "cell_type": "code",
   "execution_count": 20,
   "metadata": {},
   "outputs": [],
   "source": [
    "file_obj = open(file_path)\n",
    "file_contents = file_obj.readlines()\n",
    "file_obj.close()"
   ]
  },
  {
   "cell_type": "markdown",
   "metadata": {},
   "source": [
    "To this:"
   ]
  },
  {
   "cell_type": "code",
   "execution_count": 21,
   "metadata": {},
   "outputs": [],
   "source": [
    "with open(file_path) as file_obj:\n",
    "    file_contents = file_obj.readlines()"
   ]
  },
  {
   "cell_type": "markdown",
   "metadata": {},
   "source": [
    "You'll see both forms going forward, depending on the overall structure of the code."
   ]
  },
  {
   "cell_type": "markdown",
   "metadata": {},
   "source": [
    "### Reading from and Writing to Files\n",
    "\n",
    "#### Additional Reading Examples\n",
    "\n",
    "In the previous example, we used the `.readlines()` method to read all of the lines of the file into a list of strings. Depending on the task, you might want to use a different reading method.\n",
    "\n",
    "* `.read()` will read the entire contents into a single string, or `.read(size)` will read up to `size` number of characters into a single string\n",
    "* `.readline()` will read just one line of the file into a string\n",
    "\n",
    "#### Writing to Files\n",
    "\n",
    "If you have some information in memory in Python and you want to store it to a file on disk, you need to write to a file. Unlike with something like a `.ipynb` file + Jupyter Notebook, there isn't a concept like \"editing\" where you are viewing and changing the contents of a file all at once. Instead, you are either reading from a file or writing to a file.\n",
    "\n",
    "One typical pattern is to read from one \"raw\" file, and write to another \"cleaned\" file. Let's take that `zen_of_python.txt` file and make a \"cleaned\" version where all of the words have been converted to lowercase, and all of the punctuation has been stripped.\n",
    "\n",
    "The process for reading the data has already been completed, and each line is stored in the variable `file_contents`:"
   ]
  },
  {
   "cell_type": "code",
   "execution_count": 22,
   "metadata": {},
   "outputs": [
    {
     "data": {
      "text/plain": [
       "['The Zen of Python, by Tim Peters\\n',\n",
       " '\\n',\n",
       " 'Beautiful is better than ugly.\\n',\n",
       " 'Explicit is better than implicit.\\n',\n",
       " 'Simple is better than complex.\\n',\n",
       " 'Complex is better than complicated.\\n',\n",
       " 'Flat is better than nested.\\n',\n",
       " 'Sparse is better than dense.\\n',\n",
       " 'Readability counts.\\n',\n",
       " \"Special cases aren't special enough to break the rules.\\n\",\n",
       " 'Although practicality beats purity.\\n',\n",
       " 'Errors should never pass silently.\\n',\n",
       " 'Unless explicitly silenced.\\n',\n",
       " 'In the face of ambiguity, refuse the temptation to guess.\\n',\n",
       " 'There should be one-- and preferably only one --obvious way to do it.\\n',\n",
       " \"Although that way may not be obvious at first unless you're Dutch.\\n\",\n",
       " 'Now is better than never.\\n',\n",
       " 'Although never is often better than *right* now.\\n',\n",
       " \"If the implementation is hard to explain, it's a bad idea.\\n\",\n",
       " 'If the implementation is easy to explain, it may be a good idea.\\n',\n",
       " \"Namespaces are one honking great idea -- let's do more of those!\\n\",\n",
       " '\\n']"
      ]
     },
     "execution_count": 22,
     "metadata": {},
     "output_type": "execute_result"
    }
   ],
   "source": [
    "file_contents"
   ]
  },
  {
   "cell_type": "markdown",
   "metadata": {},
   "source": [
    "Then this code will create a cleaned version:"
   ]
  },
  {
   "cell_type": "code",
   "execution_count": 23,
   "metadata": {},
   "outputs": [
    {
     "data": {
      "text/plain": [
       "['the zen of python by tim peters\\n',\n",
       " '\\n',\n",
       " 'beautiful is better than ugly\\n',\n",
       " 'explicit is better than implicit\\n',\n",
       " 'simple is better than complex\\n',\n",
       " 'complex is better than complicated\\n',\n",
       " 'flat is better than nested\\n',\n",
       " 'sparse is better than dense\\n',\n",
       " 'readability counts\\n',\n",
       " \"special cases aren't special enough to break the rules\\n\",\n",
       " 'although practicality beats purity\\n',\n",
       " 'errors should never pass silently\\n',\n",
       " 'unless explicitly silenced\\n',\n",
       " 'in the face of ambiguity refuse the temptation to guess\\n',\n",
       " 'there should be one and preferably only one obvious way to do it\\n',\n",
       " \"although that way may not be obvious at first unless you're dutch\\n\",\n",
       " 'now is better than never\\n',\n",
       " 'although never is often better than right now\\n',\n",
       " \"if the implementation is hard to explain it's a bad idea\\n\",\n",
       " 'if the implementation is easy to explain it may be a good idea\\n',\n",
       " \"namespaces are one honking great idea  let's do more of those\\n\",\n",
       " '\\n']"
      ]
     },
     "execution_count": 23,
     "metadata": {},
     "output_type": "execute_result"
    }
   ],
   "source": [
    "import string\n",
    "\n",
    "file_contents_cleaned = []\n",
    "for line in file_contents:\n",
    "    words = line.split()\n",
    "    cleaned_words = [word.strip(string.punctuation).lower() for word in words]\n",
    "    cleaned_line = \" \".join(cleaned_words) + \"\\n\"\n",
    "    file_contents_cleaned.append(cleaned_line)\n",
    "file_contents_cleaned"
   ]
  },
  {
   "cell_type": "markdown",
   "metadata": {},
   "source": [
    "Let's say we want to write this result to a new file called `zen_of_python_cleaned.txt`. If we check using `ls`, this file currently doesn't exist:"
   ]
  },
  {
   "cell_type": "code",
   "execution_count": 24,
   "metadata": {},
   "outputs": [
    {
     "name": "stdout",
     "output_type": "stream",
     "text": [
      "README.md\n",
      "cities.xls\n",
      "colors_and_numbers.parquet\n",
      "dog.jpg\n",
      "dsc-github-actions-files\n",
      "food_prices.csv\n",
      "index.ipynb\n",
      "index_files\n",
      "kernel_menu.png\n",
      "leia.json\n",
      "leia.xml\n",
      "plot.pkl\n",
      "splitter.py\n",
      "zen_of_python.txt\n",
      "zen_of_python_cleaned.txt\n"
     ]
    }
   ],
   "source": [
    "! ls"
   ]
  },
  {
   "cell_type": "markdown",
   "metadata": {},
   "source": [
    "If we want to store the result in a file, first we need to open it. To open a file **for writing** we need to specify an additional parameter, `mode`. We set this to `\"w\"`, for \"write\".\n",
    "\n",
    "Conveniently, if we are in write mode and we specify the path of a file that doesn't currently exist, the file will automatically be created."
   ]
  },
  {
   "cell_type": "code",
   "execution_count": 25,
   "metadata": {},
   "outputs": [],
   "source": [
    "output_file_obj = open(\"zen_of_python_cleaned.txt\", mode=\"w\")"
   ]
  },
  {
   "cell_type": "markdown",
   "metadata": {},
   "source": [
    "Now if we check, there is an empty file with the specified name:"
   ]
  },
  {
   "cell_type": "code",
   "execution_count": 26,
   "metadata": {},
   "outputs": [
    {
     "name": "stdout",
     "output_type": "stream",
     "text": [
      "README.md\n",
      "cities.xls\n",
      "colors_and_numbers.parquet\n",
      "dog.jpg\n",
      "dsc-github-actions-files\n",
      "food_prices.csv\n",
      "index.ipynb\n",
      "index_files\n",
      "kernel_menu.png\n",
      "leia.json\n",
      "leia.xml\n",
      "plot.pkl\n",
      "splitter.py\n",
      "zen_of_python.txt\n",
      "zen_of_python_cleaned.txt\n"
     ]
    }
   ],
   "source": [
    "! ls"
   ]
  },
  {
   "cell_type": "markdown",
   "metadata": {},
   "source": [
    "Next, let's loop over our cleaned text and write it to the new file object using the `.write` method:"
   ]
  },
  {
   "cell_type": "code",
   "execution_count": 27,
   "metadata": {},
   "outputs": [],
   "source": [
    "for line in file_contents_cleaned:\n",
    "    output_file_obj.write(line)"
   ]
  },
  {
   "cell_type": "markdown",
   "metadata": {},
   "source": [
    "It is important to note that this data is currently still stored *only* in memory. It has been written to `output_file_obj`, which is a Python object, but there is a buffer between data being written to the file object and data being written to the actual file on disk.\n",
    "\n",
    "We can see this if we use the `-s` argument with the `ls` command, which shows that the size of `zen_of_python_cleaned.txt` is still zero:"
   ]
  },
  {
   "cell_type": "code",
   "execution_count": 28,
   "metadata": {},
   "outputs": [
    {
     "name": "stdout",
     "output_type": "stream",
     "text": [
      "total 208\n",
      "36 README.md\n",
      "12 cities.xls\n",
      " 4 colors_and_numbers.parquet\n",
      " 8 dog.jpg\n",
      " 0 dsc-github-actions-files\n",
      " 4 food_prices.csv\n",
      "40 index.ipynb\n",
      " 4 index_files\n",
      "24 kernel_menu.png\n",
      " 4 leia.json\n",
      " 4 leia.xml\n",
      "56 plot.pkl\n",
      " 8 splitter.py\n",
      " 4 zen_of_python.txt\n",
      " 0 zen_of_python_cleaned.txt\n"
     ]
    }
   ],
   "source": [
    "! ls -s"
   ]
  },
  {
   "cell_type": "markdown",
   "metadata": {},
   "source": [
    "In order to ensure that the data is actually written to the file on disk, we need to close the file object."
   ]
  },
  {
   "cell_type": "code",
   "execution_count": 29,
   "metadata": {},
   "outputs": [],
   "source": [
    "output_file_obj.close()"
   ]
  },
  {
   "cell_type": "markdown",
   "metadata": {},
   "source": [
    "Now `zen_of_python_cleaned.txt` is no longer empty, and is approximately the same size as the original raw data:"
   ]
  },
  {
   "cell_type": "code",
   "execution_count": 30,
   "metadata": {},
   "outputs": [
    {
     "name": "stdout",
     "output_type": "stream",
     "text": [
      "total 212\n",
      "36 README.md\n",
      "12 cities.xls\n",
      " 4 colors_and_numbers.parquet\n",
      " 8 dog.jpg\n",
      " 0 dsc-github-actions-files\n",
      " 4 food_prices.csv\n",
      "40 index.ipynb\n",
      " 4 index_files\n",
      "24 kernel_menu.png\n",
      " 4 leia.json\n",
      " 4 leia.xml\n",
      "56 plot.pkl\n",
      " 8 splitter.py\n",
      " 4 zen_of_python.txt\n",
      " 4 zen_of_python_cleaned.txt\n"
     ]
    }
   ],
   "source": [
    "! ls -s"
   ]
  },
  {
   "cell_type": "markdown",
   "metadata": {},
   "source": [
    "**If you are ever wondering why your data has not actually been saved to a file, double-check that the file has been closed, or that the buffer has been cleared in some other way.** It is a best practice to close files when you are finished with them whether the files are used for reading or writing, but writing is where failing to close a file can cause more significant problems.\n",
    "\n",
    "Some of the tools we will introduce later will handle the file opening/closing for you, but sometimes it's important to understand what is happening \"under the hood\" in order to debug issues like this."
   ]
  },
  {
   "cell_type": "markdown",
   "metadata": {},
   "source": [
    "## Dealing with Different File Types\n",
    "\n",
    "The examples so far have used files containing text data, which is straightforward to use in Python because it neatly corresponds to the string data type. For more-complex file types, we will often need to use additional modules or libraries.\n",
    "\n",
    "Here is a high-level overview of how you might open various file types with Python. For now we will only look at reading this data, but there is almost always a corresponding technique with that library to write to that type of file, just like we have both `.read` and `.write` with the built-in Python file objects.\n",
    "\n",
    "### Tabular Data Files\n",
    "\n",
    "Tabular data means data that can be represented as a table of rows and columns. Some common ways that tabular data is stored include CSV (`.csv`) and Excel (`.xls` or `.xlsx`) files.\n",
    "\n",
    "#### CSV\n",
    "\n",
    "If we open a CSV file as though it were just a text file, it would look something like this:"
   ]
  },
  {
   "cell_type": "code",
   "execution_count": 31,
   "metadata": {},
   "outputs": [
    {
     "name": "stdout",
     "output_type": "stream",
     "text": [
      "City,Bread,Burger,Milk,Oranges,Tomatoes\n",
      "\n",
      "ATLANTA,24.5,94.5,73.9,80.1,41.6\n",
      "\n",
      "BALTIMORE,26.5,91.0,67.5,74.6,53.3\n",
      "\n"
     ]
    }
   ],
   "source": [
    "with open(\"food_prices.csv\") as f:\n",
    "    print(f.readline())\n",
    "    print(f.readline())\n",
    "    print(f.readline())"
   ]
  },
  {
   "cell_type": "markdown",
   "metadata": {},
   "source": [
    "Just like with `zen_of_python.txt`, we have successfully read in the data as a collection of strings.\n",
    "\n",
    "In theory we could try to parse the relevant information from that using string processing, but a better technique would be to use the `csv` module, which is designed to work with this type of file:"
   ]
  },
  {
   "cell_type": "code",
   "execution_count": 32,
   "metadata": {},
   "outputs": [
    {
     "name": "stdout",
     "output_type": "stream",
     "text": [
      "{'City': 'ATLANTA', 'Bread': '24.5', 'Burger': '94.5', 'Milk': '73.9', 'Oranges': '80.1', 'Tomatoes': '41.6'}\n",
      "{'City': 'BALTIMORE', 'Bread': '26.5', 'Burger': '91.0', 'Milk': '67.5', 'Oranges': '74.6', 'Tomatoes': '53.3'}\n"
     ]
    }
   ],
   "source": [
    "import csv\n",
    "\n",
    "with open(\"food_prices.csv\") as f:\n",
    "    reader = csv.DictReader(f)\n",
    "    print(next(reader))\n",
    "    print(next(reader))"
   ]
  },
  {
   "cell_type": "markdown",
   "metadata": {},
   "source": [
    "That way, we are converting the table of data into a dictionary representing each row, instead of treating each line as a string.\n",
    "\n",
    "#### Excel\n",
    "\n",
    "If we open an Excel spreadsheet file as though it were just a text file, it would look something like this:"
   ]
  },
  {
   "cell_type": "code",
   "execution_count": 33,
   "metadata": {},
   "outputs": [
    {
     "name": "stdout",
     "output_type": "stream",
     "text": [
      "b'\\xd0\\xcf\\x11\\xe0\\xa1\\xb1\\x1a\\xe1\\x00\\x00\\x00\\x00\\x00\\x00\\x00\\x00\\x00\\x00\\x00\\x00\\x00\\x00\\x00\\x00>\\x00\\x03\\x00\\xfe\\xff\\t\\x00\\x06\\x00\\x00\\x00\\x00\\x00\\x00\\x00\\x00\\x00\\x00\\x00\\x01\\x00\\x00\\x00\\r\\x00\\x00\\x00\\x01\\x00\\x00\\x00\\x00\\x10\\x00\\x00\\x0f\\x00\\x00\\x00\\x01\\x00\\x00\\x00\\xff\\xff\\xff\\xff\\x00\\x00\\x00\\x00\\x10\\x00\\x00\\x00\\xff\\xff\\xff\\xff\\xff\\xff\\xff\\xff\\xff\\xff\\xff\\xff\\xff\\xff\\xff\\xff\\xff\\xff\\xff\\xff\\xff\\xff\\xff\\xff\\xff\\xff\\xff\\xff\\xff\\xff\\xff\\xff\\xff\\xff\\xff\\xff\\xff\\xff\\xff\\xff\\xff\\xff\\xff\\xff\\xff\\xff\\xff\\xff\\xff\\xff\\xff\\xff\\xff\\xff\\xff\\xff\\xff\\xff\\xff\\xff\\xff\\xff\\xff\\xff\\xff\\xff\\xff\\xff\\xff\\xff\\xff\\xff\\xff\\xff\\xff\\xff\\xff\\xff\\xff\\xff\\xff\\xff\\xff\\xff\\xff\\xff\\xff\\xff\\xff\\xff\\xff\\xff\\xff\\xff\\xff\\xff\\xff\\xff\\xff\\xff\\xff\\xff\\xff\\xff\\xff\\xff\\xff\\xff\\xff\\xff\\xff\\xff\\xff\\xff\\xff\\xff\\xff\\xff\\xff\\xff\\xff\\xff\\xff\\xff\\xff\\xff\\xff\\xff\\xff\\xff\\xff\\xff\\xff\\xff\\xff\\xff\\xff\\xff\\xff\\xff\\xff\\xff\\xff\\xff\\xff\\xff\\xff\\xff\\xff\\xff\\xff\\xff\\xff\\xff\\xff\\xff\\xff\\xff\\xff\\xff\\xff\\xff\\xff\\xff\\xff\\xff\\xff\\xff\\xff\\xff\\xff\\xff\\xff\\xff\\xff\\xff\\xff\\xff\\xff\\xff\\xff\\xff\\xff\\xff\\xff\\xff\\xff\\xff\\xff\\xff\\xff\\xff\\xff\\xff\\xff\\xff\\xff\\xff\\xff\\xff\\xff\\xff\\xff\\xff\\xff\\xff\\xff\\xff\\xff\\xff\\xff\\xff\\xff\\xff\\xff\\xff\\xff\\xff\\xff\\xff\\xff\\xff\\xff\\xff\\xff\\xff\\xff\\xff\\xff\\xff\\xff\\xff\\xff\\xff\\xff\\xff\\xff\\xff\\xff\\xff\\xff\\xff\\xff\\xff\\xff\\xff\\xff\\xff\\xff\\xff\\xff\\xff\\xff\\xff\\xff\\xff\\xff\\xff\\xff\\xff\\xff\\xff\\xff\\xff\\xff\\xff\\xff\\xff\\xff\\xff\\xff\\xff\\xff\\xff\\xff\\xff\\xff\\xff\\xff\\xff\\xff\\xff\\xff\\xff\\xff\\xff\\xff\\xff\\xff\\xff\\xff\\xff\\xff\\xff\\xff\\xff\\xff\\xff\\xff\\xff\\xff\\xff\\xff\\xff\\xff\\xff\\xff\\xff\\xff\\xff\\xff\\xff\\xff\\xff\\xff\\xff\\xff\\xff\\xff\\xff\\xff\\xff\\xff\\xff\\xff\\xff\\xff\\xff\\xff\\xff\\xff\\xff\\xff\\xff\\xff\\xff\\xff\\xff\\xff\\xff\\xff\\xff\\xff\\xff\\xff\\xff\\xff\\xff\\xff\\xff\\xff\\xff\\xff\\xff\\xff\\xff\\xff\\xff\\xff\\xff\\xff\\xff\\xff\\xff\\xff\\xff\\xff\\xff\\xff\\xff\\xff\\xff\\xff\\xff\\xff\\xff\\xff\\xff\\xff\\xff\\xff\\xff\\xff\\xff\\xff\\xff\\xff\\xff\\xff\\xff\\xff\\xff\\xff\\xff\\xff\\xff\\xff\\xff\\xff\\xff\\xff\\xff\\xff\\xff\\xff\\xff\\xff\\xff\\xff\\xff\\xff\\xff\\xff\\xff\\xff\\xff\\xff\\xff\\xff\\xff'\n"
     ]
    }
   ],
   "source": [
    "with open(\"cities.xls\", mode=\"rb\") as f:\n",
    "    print(f.read(500))"
   ]
  },
  {
   "cell_type": "markdown",
   "metadata": {},
   "source": [
    "That is even further from something that we can meaningfully parse! All of the `\\x` encoding means that this is data is not text, it is binary data encoded as bytes.\n",
    "\n",
    "Again, there is a library called XLRD we can use to bring this into Python in a more useful way:"
   ]
  },
  {
   "cell_type": "code",
   "execution_count": 36,
   "metadata": {},
   "outputs": [
    {
     "name": "stdout",
     "output_type": "stream",
     "text": [
      "Requirement already satisfied: xlrd in c:\\users\\user\\anaconda3\\envs\\learn-env\\lib\\site-packages (2.0.1)\n"
     ]
    }
   ],
   "source": [
    "! pip install xlrd"
   ]
  },
  {
   "cell_type": "code",
   "execution_count": 37,
   "metadata": {},
   "outputs": [
    {
     "name": "stdout",
     "output_type": "stream",
     "text": [
      "{'City': 'Solta', 'Country': 'Croatia', 'Population': 1700.0, 'Area': 59.0}\n",
      "{'City': 'Greenville', 'Country': 'USA', 'Population': 84554.0, 'Area': 68.0}\n",
      "{'City': 'Buenos Aires', 'Country': 'Argentina', 'Population': 13591863.0, 'Area': 4758.0}\n"
     ]
    }
   ],
   "source": [
    "import xlrd\n",
    "\n",
    "book = xlrd.open_workbook(\"cities.xls\")\n",
    "sheet = book.sheet_by_name(\"Sheet1\")\n",
    "columns = [sheet.cell_value(0, col) for col in range(sheet.ncols)]\n",
    "\n",
    "for row in range(1, 4):\n",
    "    row_dict = {}\n",
    "    for col_index, col_value in enumerate(columns):\n",
    "        row_dict[col_value] = sheet.cell_value(row, col_index)\n",
    "    print(row_dict)"
   ]
  },
  {
   "cell_type": "markdown",
   "metadata": {},
   "source": [
    "(Don't worry too much about the details of this example, but note that this is a library that opens and closes the file for us, so you don't need to use `.open` or `.close`, we just need to specify the path to the file.)"
   ]
  },
  {
   "cell_type": "markdown",
   "metadata": {},
   "source": [
    "### Other Data Files\n",
    "\n",
    "Sometimes data is stored in a structured but non-tabular format. These formats include JSON (`.json`), XML (`.xml`), Apache Parquet (`.parquet`), and pickle (`.pkl`). We'll review each briefly.\n",
    "\n",
    "#### JSON\n",
    "\n",
    "JSON files are structured similarly to dictionaries, and can contain nested data. The `json` module allows you to load them into memory using Python data types (in this case, a dictionary).\n",
    "\n",
    "The raw file looks like this:\n",
    "\n",
    "```\n",
    "{\n",
    "\t\"name\": \"Leia Organa\",\n",
    "\t\"height\": \"150\",\n",
    "\t\"mass\": \"49\",\n",
    "\t\"hair_color\": \"brown\",\n",
    "\t\"skin_color\": \"light\",\n",
    "\t\"eye_color\": \"brown\",\n",
    "\t\"birth_year\": \"19BBY\",\n",
    "\t\"gender\": \"female\",\n",
    "\t\"homeworld\": \"http://swapi.dev/api/planets/2/\",\n",
    "\t\"films\": [\n",
    "\t\t\"http://swapi.dev/api/films/1/\",\n",
    "\t\t\"http://swapi.dev/api/films/2/\",\n",
    "\t\t\"http://swapi.dev/api/films/3/\",\n",
    "\t\t\"http://swapi.dev/api/films/6/\"\n",
    "\t],\n",
    "\t\"species\": [],\n",
    "\t\"vehicles\": [\n",
    "\t\t\"http://swapi.dev/api/vehicles/30/\"\n",
    "\t],\n",
    "\t\"starships\": [],\n",
    "\t\"created\": \"2014-12-10T15:20:09.791000Z\",\n",
    "\t\"edited\": \"2014-12-20T21:17:50.315000Z\",\n",
    "\t\"url\": \"http://swapi.dev/api/people/5/\"\n",
    "}\n",
    "```\n",
    "\n",
    "Opening it in Python looks like this:"
   ]
  },
  {
   "cell_type": "code",
   "execution_count": 38,
   "metadata": {},
   "outputs": [
    {
     "data": {
      "text/plain": [
       "{'name': 'Leia Organa',\n",
       " 'height': '150',\n",
       " 'mass': '49',\n",
       " 'hair_color': 'brown',\n",
       " 'skin_color': 'light',\n",
       " 'eye_color': 'brown',\n",
       " 'birth_year': '19BBY',\n",
       " 'gender': 'female',\n",
       " 'homeworld': 'http://swapi.dev/api/planets/2/',\n",
       " 'films': ['http://swapi.dev/api/films/1/',\n",
       "  'http://swapi.dev/api/films/2/',\n",
       "  'http://swapi.dev/api/films/3/',\n",
       "  'http://swapi.dev/api/films/6/'],\n",
       " 'species': [],\n",
       " 'vehicles': ['http://swapi.dev/api/vehicles/30/'],\n",
       " 'starships': [],\n",
       " 'created': '2014-12-10T15:20:09.791000Z',\n",
       " 'edited': '2014-12-20T21:17:50.315000Z',\n",
       " 'url': 'http://swapi.dev/api/people/5/'}"
      ]
     },
     "execution_count": 38,
     "metadata": {},
     "output_type": "execute_result"
    }
   ],
   "source": [
    "import json\n",
    "\n",
    "with open(\"leia.json\") as f:\n",
    "    leia_data = json.load(f)\n",
    "leia_data"
   ]
  },
  {
   "cell_type": "markdown",
   "metadata": {},
   "source": [
    "#### XML\n",
    "\n",
    "XML also works with nested data. Here we have the same data about Leia Organa in XML format. The raw file looks like this:\n",
    "\n",
    "```\n",
    "<?xml version=\"1.0\"?>\n",
    "<person>\n",
    "  <name>Leia Organa</name>\n",
    "  <height>150</height>\n",
    "  <mass>49</mass>\n",
    "  <hair_color>brown</hair_color>\n",
    "  <skin_color>light</skin_color>\n",
    "  <eye_color>brown</eye_color>\n",
    "  <birth_year>19BBY</birth_year>\n",
    "  <gender>female</gender>\n",
    "  <homeworld>http://swapi.dev/api/planets/2/</homeworld>\n",
    "  <films>\n",
    "    <film>http://swapi.dev/api/films/1/</film>\n",
    "    <film>http://swapi.dev/api/films/2/</film>\n",
    "    <film>http://swapi.dev/api/films/3/</film>\n",
    "    <film>http://swapi.dev/api/films/6/</film>\n",
    "  </films>\n",
    "  <species />\n",
    "  <vehicles>\n",
    "    <vehicle>http://swapi.dev/api/vehicles/30/</vehicle>\n",
    "  </vehicles>\n",
    "  <starships />\n",
    "  <created>2014-12-10T15:20:09.791000Z</created>\n",
    "  <edited>2014-12-20T21:17:50.315000Z</edited>\n",
    "  <url>http://swapi.dev/api/people/5/</url>\n",
    "</person>\n",
    "```\n",
    "\n",
    "Opening it in Python looks like this:"
   ]
  },
  {
   "cell_type": "code",
   "execution_count": 39,
   "metadata": {},
   "outputs": [
    {
     "name": "stdout",
     "output_type": "stream",
     "text": [
      "Tree: <xml.etree.ElementTree.ElementTree object at 0x000001AC84D79B90>\n",
      "Root: <Element 'person' at 0x000001AC84E1BA10>\n",
      "Child nodes:\n",
      "name | Leia Organa\n",
      "height | 150\n",
      "mass | 49\n",
      "hair_color | brown\n",
      "skin_color | light\n",
      "eye_color | brown\n",
      "birth_year | 19BBY\n",
      "gender | female\n",
      "homeworld | http://swapi.dev/api/planets/2/\n",
      "films | [ <Element 'film' at 0x000001AC84E1BDD0> ... ]\n",
      "vehicles | [ <Element 'vehicle' at 0x000001AC84E2C130> ... ]\n",
      "created | 2014-12-10T15:20:09.791000Z\n",
      "edited | 2014-12-20T21:17:50.315000Z\n",
      "url | http://swapi.dev/api/people/5/\n"
     ]
    }
   ],
   "source": [
    "import xml.etree.ElementTree as ET\n",
    "\n",
    "tree = ET.parse(\"leia.xml\")\n",
    "root = tree.getroot()\n",
    "print(\"Tree:\", tree)\n",
    "print(\"Root:\", root)\n",
    "print(\"Child nodes:\")\n",
    "\n",
    "for child in root:\n",
    "    if len(list(child)) > 0:\n",
    "        print(child.tag, \"| [\", child[0], \"... ]\")\n",
    "    elif child.text:\n",
    "        print(child.tag, \"|\", child.text)"
   ]
  },
  {
   "cell_type": "markdown",
   "metadata": {},
   "source": [
    "#### Apache Parquet\n",
    "\n",
    "Apache Parquet is a format designed for *columnar* data rather than data stored by row as it is in a traditional tabular format. This format is most often used for big data.  See documentation [here](https://arrow.apache.org/docs/python/parquet.html). For example, say we have this dataset:\n",
    "\n",
    "| color  | number |\n",
    "| ------ | ------ |\n",
    "| green  | 7      |\n",
    "| red    | 2      |\n",
    "| orange | 1      |\n",
    "\n",
    "Loading just the `color` column of that dataset from a parquet file would look like this:"
   ]
  },
  {
   "cell_type": "code",
   "execution_count": null,
   "metadata": {},
   "outputs": [],
   "source": [
    "import pyarrow.parquet as pq\n",
    "\n",
    "table = pq.read_table(\"colors_and_numbers.parquet\", columns=[\"color\"])\n",
    "table[\"color\"]"
   ]
  },
  {
   "cell_type": "markdown",
   "metadata": {},
   "source": [
    "#### Pickle\n",
    "\n",
    "Pickle allows you to serialize Python objects even if they are not simple data structures like lists and dictionaries. See documentation [here](https://docs.python.org/3/library/pickle.html). For example, you could create a Matplotlib figure, save it to a pickle file, load the figure, then customize its appearance:"
   ]
  },
  {
   "cell_type": "code",
   "execution_count": null,
   "metadata": {},
   "outputs": [],
   "source": [
    "import pickle\n",
    "import matplotlib.pyplot as plt\n",
    "import numpy as np\n",
    "\n",
    "x = np.random.rand(15)\n",
    "y = np.random.rand(15)\n",
    "\n",
    "fig, axes = plt.subplots()\n",
    "axes.set_xlabel(\"X Label That Was Set Before Pickling\")\n",
    "axes.scatter(x, y)\n",
    "\n",
    "pickle.dump(fig, open(\"plot.pkl\", \"wb\"))\n",
    "\n",
    "plt.close(\"all\")"
   ]
  },
  {
   "cell_type": "code",
   "execution_count": null,
   "metadata": {},
   "outputs": [],
   "source": [
    "with open(\"plot.pkl\", \"rb\") as f:\n",
    "    fig = pickle.load(f)\n",
    "    ax = fig.gca()\n",
    "    ax.set_ylabel(\"Y Label That Was Set Later\")"
   ]
  },
  {
   "cell_type": "markdown",
   "metadata": {},
   "source": [
    "#### IMPORTANT SECURITY NOTE\n",
    "\n",
    "Both XML and pickle formats are **not secure** — if you open an XML or pickle file, you are essentially allowing the author of that file to execute code on your computer.\n",
    "\n",
    "You want to be sure that you trust the origin of the XML or pickle file, and you should avoid opening random files found online.\n",
    "\n",
    "The other file formats shown here are much more secure and have more built-in protections against malicious content."
   ]
  },
  {
   "cell_type": "markdown",
   "metadata": {},
   "source": [
    "### Images\n",
    "\n",
    "As you might expect, if we open an image like a text file and view its raw contents, we'll see mostly unintelligible byte code.\n",
    "\n",
    "For example, let's look at this file from the Wikimedia Commons, which is also saved in this directory as `dog.jpg`.\n",
    "\n",
    "<a title=\"Druidk9, CC BY-SA 3.0 &lt;https://creativecommons.org/licenses/by-sa/3.0&gt;, via Wikimedia Commons\" href=\"https://commons.wikimedia.org/wiki/File:Labrador_Chocolate.jpg\"><img width=\"128\" alt=\"Labrador Chocolate\" src=\"https://upload.wikimedia.org/wikipedia/commons/7/7d/Labrador_Chocolate.jpg\"></a>"
   ]
  },
  {
   "cell_type": "code",
   "execution_count": 40,
   "metadata": {},
   "outputs": [
    {
     "name": "stdout",
     "output_type": "stream",
     "text": [
      "b'\\xff\\xd8\\xff\\xe0\\x00\\x10JFIF\\x00\\x01\\x01\\x01\\x01,\\x01,\\x00\\x00\\xff\\xdb\\x00C\\x00\\n\\x07\\x07\\x08\\x07\\x06\\n\\x08\\x08\\x08\\x0b\\n\\n\\x0b\\x0e\\x18\\x10\\x0e\\r\\r\\x0e\\x1d\\x15\\x16\\x11\\x18#\\x1f%$\"\\x1f\"!&+7/&)4)!\"0A149;>>>%.DIC<H7=>;\\xff\\xdb\\x00C\\x01\\n\\x0b\\x0b\\x0e\\r\\x0e\\x1c\\x10\\x10\\x1c;(\"(;;;;;;;;;;;;;;;;;;;;;;;;;;;;;;;;;;;;;;;;;;;;;;;;;;\\xff\\xc0\\x00\\x11\\x08\\x00\\x80\\x00\\x80\\x03\\x01\"\\x00\\x02\\x11\\x01\\x03\\x11\\x01\\xff\\xc4\\x00\\x1b\\x00\\x00\\x02\\x03\\x01\\x01\\x01\\x00\\x00\\x00\\x00\\x00\\x00\\x00\\x00\\x00\\x00\\x04\\x05\\x02\\x03\\x06\\x07\\x00\\x01\\xff\\xc4\\x008\\x10\\x00\\x02\\x01\\x02\\x05\\x03\\x02\\x05\\x02\\x04\\x06\\x02\\x03\\x00\\x00\\x00\\x01\\x02\\x03\\x04\\x11\\x00\\x05\\x12!1\\x13AQ\"a\\x06\\x142q\\x81\\x91\\xa1\\x15#\\xb1\\xd1\\x07BR\\xc1\\xe1\\xf0$b%\\x82\\xf1\\xff\\xc4\\x00\\x1a\\x01\\x00\\x03\\x01\\x01\\x01\\x01\\x00\\x00\\x00\\x00\\x00\\x00\\x00\\x00\\x00\\x00\\x02\\x03\\x04\\x01\\x05\\x00\\x06\\xff\\xc4\\x00)\\x11\\x00\\x02\\x02\\x02\\x02\\x01\\x04\\x01\\x03\\x05\\x00\\x00\\x00\\x00\\x00\\x00\\x01\\x02\\x00\\x11\\x03\\x12!1\\x04\\x13\"AQ\\x05aq\\x812BR\\x91\\xd1\\xff\\xda\\x00\\x0c\\x03\\x01\\x00\\x02\\x11\\x03\\x11\\x00?\\x00\\xda\\xcb\\x054\\x90\\xc7\\xaa\\x18:\\x9a5\\x05\\x8d\\x0b+\\x9e\\xd6n\\xd8\\x81p\\xd1\\x88\\x84\\xe69\\n\\x94\\xd3%\\xc2\\xb2\\x8e{mn\\xc7\\x03RW\\x8aR\\xb1\\x85\\x0e\\x96:;\\xd9@\\xbe\\xc7\\xc6\\x0c\\xa8\\xaf,\\x8b$\\x13\\xebV\\x01\\x99\\x1c\\x02,{q\\x7f8\\xf8_M\\xec\\x0e\\xfe\\xa56*\\xe5+,\\xd0\\xd3I\\xaa\\xf2\\xa2>\\x96\\xd24\\xa1\\x1c}_\\xbe\\xd8\\xa2\\x94uV\\xa7\\x88\\xc1Rx\\x05\\x16\\xfeI\\xdf\\x03\\xd6\\xce\\xb0\\xd3u\\xe6\\x96\\x18!f\\nW\\xa8~\\xae8<\\xdf\\x02\\xcf\\x9fS\\xd1C\\x19a\\x04d\\x1d\\xa4e\\x05\\x98\\xfb{\\xe2\\xcc'\n"
     ]
    }
   ],
   "source": [
    "with open(\"dog.jpg\", mode=\"rb\") as f:\n",
    "    print(f.read(500))"
   ]
  },
  {
   "cell_type": "markdown",
   "metadata": {},
   "source": [
    "The library you use to open an image file depends on what you want to do with it. For example, if you want to use it as the background of a graph, you could do that with Matplotlib:"
   ]
  },
  {
   "cell_type": "code",
   "execution_count": 41,
   "metadata": {},
   "outputs": [
    {
     "ename": "NameError",
     "evalue": "name 'plt' is not defined",
     "output_type": "error",
     "traceback": [
      "\u001b[1;31m---------------------------------------------------------------------------\u001b[0m",
      "\u001b[1;31mNameError\u001b[0m                                 Traceback (most recent call last)",
      "Cell \u001b[1;32mIn[41], line 1\u001b[0m\n\u001b[1;32m----> 1\u001b[0m image \u001b[38;5;241m=\u001b[39m \u001b[43mplt\u001b[49m\u001b[38;5;241m.\u001b[39mimread(\u001b[38;5;124m\"\u001b[39m\u001b[38;5;124mdog.jpg\u001b[39m\u001b[38;5;124m\"\u001b[39m)\n\u001b[0;32m      2\u001b[0m fig, ax \u001b[38;5;241m=\u001b[39m plt\u001b[38;5;241m.\u001b[39msubplots()\n\u001b[0;32m      3\u001b[0m ax\u001b[38;5;241m.\u001b[39mimshow(image, alpha\u001b[38;5;241m=\u001b[39m\u001b[38;5;241m0.5\u001b[39m)\n",
      "\u001b[1;31mNameError\u001b[0m: name 'plt' is not defined"
     ]
    }
   ],
   "source": [
    "image = plt.imread(\"dog.jpg\")\n",
    "fig, ax = plt.subplots()\n",
    "ax.imshow(image, alpha=0.5)\n",
    "ax.plot(range(10, 130, 10), range(60, 84, 2))\n",
    "ax.plot(range(10, 130, 10), range(100, 16, -7), \"k--\");"
   ]
  },
  {
   "cell_type": "markdown",
   "metadata": {},
   "source": [
    "If you want to manipulate the image in some way, you could use an image-specific library like Pillow ([documentation here](https://pillow.readthedocs.io/en/stable/handbook/tutorial.html)):"
   ]
  },
  {
   "cell_type": "code",
   "execution_count": 42,
   "metadata": {},
   "outputs": [
    {
     "data": {
      "image/jpeg": "[encoded data removed]",
      "image/png": "[encoded data removed]",
      "text/plain": [
       "<PIL.JpegImagePlugin.JpegImageFile image mode=RGB size=128x128>"
      ]
     },
     "metadata": {},
     "output_type": "display_data"
    }
   ],
   "source": [
    "from PIL import Image\n",
    "\n",
    "image = Image.open(\"dog.jpg\")\n",
    "display(image)"
   ]
  },
  {
   "cell_type": "code",
   "execution_count": 43,
   "metadata": {},
   "outputs": [
    {
     "data": {
      "image/jpeg": "[encoded data removed]",
      "image/png": "[encoded data removed]",
      "text/plain": [
       "<PIL.Image.Image image mode=RGB size=128x128>"
      ]
     },
     "metadata": {},
     "output_type": "display_data"
    }
   ],
   "source": [
    "# Rotate 90 degrees\n",
    "image_rotated = image.transpose(Image.ROTATE_90)\n",
    "display(image_rotated)"
   ]
  },
  {
   "cell_type": "code",
   "execution_count": 44,
   "metadata": {},
   "outputs": [
    {
     "data": {
      "image/jpeg": "[encoded data removed]",
      "image/png": "[encoded data removed]",
      "text/plain": [
       "<PIL.Image.Image image mode=1 size=128x128>"
      ]
     },
     "metadata": {},
     "output_type": "display_data"
    }
   ],
   "source": [
    "# Convert to simplified black and white\n",
    "image_bw = image.convert(\"1\")\n",
    "display(image_bw)"
   ]
  },
  {
   "cell_type": "code",
   "execution_count": 45,
   "metadata": {},
   "outputs": [
    {
     "data": {
      "image/jpeg": "[encoded data removed]",
      "image/png": "[encoded data removed]",
      "text/plain": [
       "<PIL.Image.Image image mode=RGB size=57x50>"
      ]
     },
     "metadata": {},
     "output_type": "display_data"
    }
   ],
   "source": [
    "# Crop\n",
    "image_cropped = image.crop((4, 5, 61, 55))\n",
    "display(image_cropped)"
   ]
  },
  {
   "cell_type": "markdown",
   "metadata": {},
   "source": [
    "There are also libraries with functionality specifically designed for feeding images into machine learning models, such as [Keras](https://keras.io/api/preprocessing/image/)."
   ]
  },
  {
   "cell_type": "markdown",
   "metadata": {},
   "source": [
    "## Summary\n",
    "\n",
    "As a data scientist, file input and output is a key way for your code to interact with various kinds of data and to save your work \"on disk\". In this lesson we walked through the underlying concepts needed to work with files in Python, and provided examples of opening numerous file types with various libraries."
   ]
  },
  {
   "cell_type": "code",
   "execution_count": null,
   "metadata": {},
   "outputs": [],
   "source": []
  }
 ],
 "metadata": {
  "kernelspec": {
   "display_name": "Python (learn-env)",
   "language": "python",
   "name": "learn-env"
  },
  "language_info": {
   "codemirror_mode": {
    "name": "ipython",
    "version": 3
   },
   "file_extension": ".py",
   "mimetype": "text/x-python",
   "name": "python",
   "nbconvert_exporter": "python",
   "pygments_lexer": "ipython3",
   "version": "3.11.9"
  }
 },
 "nbformat": 4,
 "nbformat_minor": 4
}
